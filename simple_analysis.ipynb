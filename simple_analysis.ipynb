{
 "cells": [
  {
   "cell_type": "code",
   "execution_count": null,
   "metadata": {},
   "outputs": [],
   "source": [
    "import pymongo\n",
    "import pandas as pd\n",
    "from tqdm import tqdm\n",
    "\n",
    "from notebook_modules.database import Database\n",
    "from notebook_modules.quarter import Quarter\n",
    "from notebook_modules.lists import make_list\n",
    "from notebook_modules.plots import make_tag_plot"
   ]
  },
  {
   "cell_type": "code",
   "execution_count": null,
   "metadata": {},
   "outputs": [],
   "source": [
    "db = Database()\n",
    "assert db.client, \"No database client available!\"\n",
    "stackoverflow = db.client[\"stackoverflow\"]\n",
    "tags = stackoverflow[\"tags\"]\n",
    "posts = stackoverflow[\"posts\"]"
   ]
  },
  {
   "cell_type": "code",
   "execution_count": null,
   "metadata": {},
   "outputs": [],
   "source": [
    "quarters = Quarter.make_quarters(2008, 2021)"
   ]
  },
  {
   "cell_type": "code",
   "execution_count": null,
   "metadata": {},
   "outputs": [],
   "source": [
    "topTags = (tags\n",
    ".find({}, projection=[\"TagName\", \"Count\"])\n",
    ".sort(\"Count\", pymongo.DESCENDING)\n",
    ".limit(10))"
   ]
  },
  {
   "cell_type": "code",
   "execution_count": null,
   "metadata": {},
   "outputs": [],
   "source": [
    "for tag in list(topTags):\n",
    "    df = pd.DataFrame(columns=[\"quarter\", \"count\"])\n",
    "    for quarter in tqdm(quarters, unit=\"query\", desc=tag[\"TagName\"], ascii=True):\n",
    "        result = posts.count_documents({\n",
    "            \"PostTypeId\": 1,\n",
    "            \"CreationDate\": {\n",
    "                \"$gte\": quarter.start,\n",
    "                \"$lt\": quarter.end\n",
    "            },\n",
    "            \"Tags\": tag[\"TagName\"]\n",
    "        })\n",
    "        index = len(df.index)\n",
    "        df.loc[index] = [str(quarter), result]\n",
    "    make_list(\"count\", tag[\"TagName\"], df)\n",
    "    make_tag_plot(\"count\", tag[\"TagName\"], df)"
   ]
  },
  {
   "cell_type": "code",
   "execution_count": null,
   "metadata": {},
   "outputs": [],
   "source": [
    "for tag in list(topTags):\n",
    "    df = pd.DataFrame(columns=[\"quarter\", \"views\"])\n",
    "    for quarter in tqdm(quarters, unit=\"query\", desc=tag[\"TagName\"], ascii=True):\n",
    "        cursor = posts.aggregate([\n",
    "            {\"$match\": {\n",
    "                \"PostTypeId\": 1,\n",
    "                \"CreationDate\": {\n",
    "                    \"$gte\": quarter.start,\n",
    "                    \"$lt\": quarter.end\n",
    "                },\n",
    "                \"Tags\": tag[\"TagName\"]\n",
    "            }},\n",
    "            {\"$group\": {\n",
    "                \"_id\": None,\n",
    "                \"views\": {\"$sum\": \"$ViewCount\"}\n",
    "            }},\n",
    "        ])\n",
    "        index = len(df.index)\n",
    "        result = list(cursor)\n",
    "        if len(result) == 0:\n",
    "            df.loc[index] = [str(quarter), 0]\n",
    "        else:\n",
    "            df.loc[index] = [str(quarter), result[0][\"views\"]]\n",
    "    make_list(\"views\", tag[\"TagName\"], df)\n",
    "    make_tag_plot(\"views\", tag[\"TagName\"], df)"
   ]
  },
  {
   "cell_type": "code",
   "execution_count": null,
   "metadata": {},
   "outputs": [],
   "source": [
    "for tag in list(topTags):\n",
    "    df = pd.DataFrame(columns=[\"quarter\", \"score\"])\n",
    "    for quarter in tqdm(quarters, unit=\"query\", desc=tag[\"TagName\"], ascii=True):\n",
    "        cursor = posts.aggregate([\n",
    "            {\"$match\": {\n",
    "                \"PostTypeId\": 1,\n",
    "                \"CreationDate\": {\n",
    "                    \"$gte\": quarter.start,\n",
    "                    \"$lt\": quarter.end\n",
    "                },\n",
    "                \"Tags\": tag[\"TagName\"]\n",
    "            }},\n",
    "            {\"$group\": {\n",
    "                \"_id\": None,\n",
    "                \"score\": {\"$avg\": \"$Score\"}\n",
    "            }},\n",
    "        ])\n",
    "        index = len(df.index)\n",
    "        result = list(cursor)\n",
    "        \n",
    "        if len(result) == 0:\n",
    "            df.loc[index] = [str(quarter), 0]\n",
    "        else:\n",
    "            df.loc[index] = [str(quarter), result[0][\"score\"]]\n",
    "    make_list(\"score\", tag[\"TagName\"], df)\n",
    "    make_tag_plot(\"score\", tag[\"TagName\"], df)"
   ]
  },
  {
   "cell_type": "code",
   "execution_count": null,
   "metadata": {},
   "outputs": [],
   "source": []
  }
 ],
 "metadata": {
  "kernelspec": {
   "display_name": "Python 3.7.6 64-bit ('AILab_StackOverflow': pipenv)",
   "language": "python",
   "name": "python37664bitailabstackoverflowpipenv9b4cf6b7295c4456a9392d654f378e0b"
  },
  "language_info": {
   "codemirror_mode": {
    "name": "ipython",
    "version": 3
   },
   "file_extension": ".py",
   "mimetype": "text/x-python",
   "name": "python",
   "nbconvert_exporter": "python",
   "pygments_lexer": "ipython3",
   "version": "3.8.3-final"
  }
 },
 "nbformat": 4,
 "nbformat_minor": 2
}