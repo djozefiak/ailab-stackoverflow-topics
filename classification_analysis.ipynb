{
 "cells": [
  {
   "cell_type": "code",
   "execution_count": null,
   "metadata": {},
   "outputs": [],
   "source": [
    "import pymongo\n",
    "import pandas as pd\n",
    "from tqdm import tqdm\n",
    "\n",
    "from notebook_modules.database import Database\n",
    "from notebook_modules.half import Half\n",
    "from notebook_modules.classification import aggregate_features, split_top, split_class, classify\n",
    "from notebook_modules.lists import make_list\n",
    "from notebook_modules.plots import make_distribution_plot"
   ]
  },
  {
   "cell_type": "code",
   "execution_count": null,
   "metadata": {
    "tags": []
   },
   "outputs": [],
   "source": [
    "db = Database()\n",
    "assert db.client, \"No database client available!\"\n",
    "stackoverflow = db.client[\"stackoverflow\"]\n",
    "tags = stackoverflow[\"tags\"]\n",
    "posts = stackoverflow[\"posts\"]"
   ]
  },
  {
   "cell_type": "code",
   "execution_count": null,
   "metadata": {},
   "outputs": [],
   "source": [
    "tags_h1 = aggregate_features(posts, Half.make_half(2018, 2))\n",
    "tags_h2 = aggregate_features(posts, Half.make_half(2019, 1))"
   ]
  },
  {
   "cell_type": "code",
   "execution_count": null,
   "metadata": {},
   "outputs": [],
   "source": [
    "top_h1 = split_top(tags_h1, threshold=0.2)\n",
    "top_h2 = split_top(tags_h2, threshold=0.2)\n",
    "dataset = classify(top_current=top_h1, top_next=top_h2)\n",
    "dataset"
   ]
  },
  {
   "cell_type": "code",
   "execution_count": null,
   "metadata": {
    "tags": []
   },
   "outputs": [],
   "source": [
    "import tensorflow as tf\n",
    "import keras.backend as K\n",
    "from keras.models import Sequential\n",
    "from keras.layers import Dense, LSTM\n",
    "from keras.utils import plot_model\n",
    "from sklearn.model_selection import train_test_split"
   ]
  },
  {
   "cell_type": "code",
   "execution_count": null,
   "metadata": {},
   "outputs": [],
   "source": [
    "def recall(y_true, y_pred):\n",
    "    true_positives = K.sum(K.round(K.clip(y_true * y_pred, 0, 1)))\n",
    "    possible_positives = K.sum(K.round(K.clip(y_true, 0, 1)))\n",
    "    rec = true_positives / (possible_positives + K.epsilon())\n",
    "    return rec\n",
    "\n",
    "def precision(y_true, y_pred):\n",
    "    true_positives = K.sum(K.round(K.clip(y_true * y_pred, 0, 1)))\n",
    "    predicted_positives = K.sum(K.round(K.clip(y_pred, 0, 1)))\n",
    "    pre = true_positives / (predicted_positives + K.epsilon())\n",
    "    return pre\n",
    "\n",
    "def f1_score(y_true, y_pred):\n",
    "    pre = precision(y_true, y_pred)\n",
    "    rec = recall(y_true, y_pred)\n",
    "    f1 = 2 * ((pre * rec) / (pre + rec + K.epsilon()))\n",
    "    return f1\n",
    "\n",
    "def f1_loss(y_true, y_pred):\n",
    "    true_positives = K.sum(K.cast(y_true * y_pred, \"float\"), axis=0)\n",
    "    true_negatives = K.sum(K.cast((1 - y_true) * (1 - y_pred), \"float\"), axis=0)\n",
    "    false_positives = K.sum(K.cast((1 - y_true) * y_pred, \"float\"), axis=0)\n",
    "    false_negatives = K.sum(K.cast(y_true * (1 - y_pred), \"float\"), axis=0)\n",
    "\n",
    "    pre = true_positives / (true_positives + false_positives + K.epsilon())\n",
    "    rec = true_positives / (true_positives + false_negatives + K.epsilon())\n",
    "\n",
    "    f1 = 2 * pre * rec / (pre + rec + K.epsilon())\n",
    "    f1 = tf.where(tf.math.is_nan(f1), tf.zeros_like(f1), f1)\n",
    "    return 1 - K.mean(f1)"
   ]
  },
  {
   "cell_type": "code",
   "execution_count": null,
   "metadata": {},
   "outputs": [],
   "source": [
    "# split X, Y into a train and test set\n",
    "x, y = split_class(dataset)\n",
    "x_train, x_test, y_train, y_test = train_test_split(x, y, test_size=0.1)"
   ]
  },
  {
   "cell_type": "code",
   "execution_count": null,
   "metadata": {
    "tags": []
   },
   "outputs": [],
   "source": [
    "# create model, add dense layers one by one specifying activation function\n",
    "model = Sequential()\n",
    "model.add(Dense(10, input_dim=len(x_train.columns), activation=\"relu\")) # input layer requires input_dim param\n",
    "model.add(Dense(1, activation=\"sigmoid\")) # sigmoid instead of relu for final probability between 0 and 1\n",
    "\n",
    "# compile the model, adam gradient descent (optimized)\n",
    "model.compile(optimizer=\"adam\", loss=\"binary_crossentropy\", metrics=[\"accuracy\", f1_score, precision, recall])\n",
    "\n",
    "# call the function to fit to the data (training the network)\n",
    "model.fit(x_train, y_train, epochs=1, validation_data=(x_test, y_test))"
   ]
  },
  {
   "cell_type": "code",
   "execution_count": null,
   "metadata": {},
   "outputs": [],
   "source": [
    "plot_model(model, show_shapes=True, show_layer_names=True, to_file=\"output/models/model.png\")"
   ]
  },
  {
   "cell_type": "code",
   "execution_count": null,
   "metadata": {},
   "outputs": [],
   "source": [
    "tags_h1_eval = aggregate_features(posts, Half.make_half(2019, 1))\n",
    "tags_h2_eval = aggregate_features(posts, Half.make_half(2019, 2))"
   ]
  },
  {
   "cell_type": "code",
   "execution_count": null,
   "metadata": {},
   "outputs": [],
   "source": [
    "top_h1_eval = split_top(tags_h1_eval, threshold=0.2)\n",
    "top_h2_eval = split_top(tags_h2_eval, threshold=0.2)\n",
    "dataset_eval = classify(top_current=top_h1_eval, top_next=top_h2_eval)\n",
    "dataset_eval"
   ]
  },
  {
   "cell_type": "code",
   "execution_count": null,
   "metadata": {
    "tags": []
   },
   "outputs": [],
   "source": [
    "x_eval, y_eval = split_class(dataset_eval)\n",
    "metrics = model.evaluate(x_eval, y_eval)\n",
    "dict(zip(model.metrics_names, metrics))"
   ]
  },
  {
   "cell_type": "code",
   "execution_count": null,
   "metadata": {},
   "outputs": [],
   "source": []
  }
 ],
 "metadata": {
  "kernelspec": {
   "display_name": "Python 3",
   "language": "python",
   "name": "python3"
  },
  "language_info": {
   "codemirror_mode": {
    "name": "ipython",
    "version": 3
   },
   "file_extension": ".py",
   "mimetype": "text/x-python",
   "name": "python",
   "nbconvert_exporter": "python",
   "pygments_lexer": "ipython3",
   "version": "3.7.7-final"
  }
 },
 "nbformat": 4,
 "nbformat_minor": 4
}