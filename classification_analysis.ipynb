{
 "cells": [
  {
   "cell_type": "code",
   "execution_count": null,
   "metadata": {},
   "outputs": [],
   "source": [
    "import pymongo\n",
    "import pandas as pd\n",
    "from tqdm import tqdm\n",
    "\n",
    "from notebook_modules.database import Database\n",
    "from notebook_modules.half import Half\n",
    "from notebook_modules.distribution import aggregate, distribute\n",
    "from notebook_modules.lists import make_list\n",
    "from notebook_modules.plots import make_distribution_plot"
   ]
  },
  {
   "cell_type": "code",
   "execution_count": null,
   "metadata": {},
   "outputs": [],
   "source": [
    "db = Database()\n",
    "assert db.client, \"No database client available!\"\n",
    "stackoverflow = db.client[\"stackoverflow\"]\n",
    "tags = stackoverflow[\"tags\"]\n",
    "posts = stackoverflow[\"posts\"]"
   ]
  },
  {
   "cell_type": "code",
   "execution_count": null,
   "metadata": {
    "tags": [
     "outputPrepend"
    ]
   },
   "outputs": [],
   "source": [
    "tags_h1 = aggregate(posts, Half.make_half(2019, 1))\n",
    "tags_h2 = aggregate(posts, Half.make_half(2019, 2))"
   ]
  },
  {
   "cell_type": "code",
   "execution_count": null,
   "metadata": {},
   "outputs": [],
   "source": [
    "top_h1 = tags_h1.head(int(0.2 * len(tags_h1)))\n",
    "top_h2 = tags_h2.head(int(0.2 * len(tags_h2)))\n",
    "bottom_h1 = tags_h1.iloc[len(top_h1):]\n",
    "bottom_h2 = tags_h2.iloc[len(top_h2):]\n",
    "assert len(tags_h1) == len(top_h1) + len(bottom_h1), \"Split dataframe length mismatch!\"\n",
    "assert len(tags_h2) == len(top_h2) + len(bottom_h2), \"Split dataframe length mismatch!\""
   ]
  },
  {
   "cell_type": "code",
   "execution_count": null,
   "metadata": {},
   "outputs": [],
   "source": [
    "undecaying = pd.merge(top_h1, top_h2, how=\"inner\", on=\"tag\")\n",
    "decaying_left_join = pd.merge(top_h1, top_h2, how=\"left\", on=\"tag\", indicator=True)\n",
    "decaying = decaying_left_join[decaying_left_join[\"_merge\"] == \"left_only\"].reset_index(drop=True)\n",
    "decaying.drop(\"_merge\", axis=\"columns\", inplace=True)\n",
    "assert len(top_h1) == len(undecaying) + len(decaying), \"Classification dataframe length mismatch!\""
   ]
  },
  {
   "cell_type": "code",
   "execution_count": null,
   "metadata": {},
   "outputs": [],
   "source": [
    "undecaying[\"classification\"] = \"undecaying\"\n",
    "decaying[\"classification\"] = \"decaying\"\n",
    "decaying.fillna(pd.NA, inplace=True)\n",
    "result = pd.concat([undecaying, decaying], ignore_index=True)"
   ]
  },
  {
   "cell_type": "code",
   "execution_count": null,
   "metadata": {},
   "outputs": [],
   "source": []
  }
 ],
 "metadata": {
  "kernelspec": {
   "display_name": "Python 3",
   "language": "python",
   "name": "python3"
  },
  "language_info": {
   "codemirror_mode": {
    "name": "ipython",
    "version": 3
   },
   "file_extension": ".py",
   "mimetype": "text/x-python",
   "name": "python",
   "nbconvert_exporter": "python",
   "pygments_lexer": "ipython3",
   "version": "3.7.7-final"
  }
 },
 "nbformat": 4,
 "nbformat_minor": 2
}