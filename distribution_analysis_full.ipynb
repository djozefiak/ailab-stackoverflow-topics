{
 "cells": [
  {
   "cell_type": "code",
   "execution_count": null,
   "metadata": {},
   "outputs": [],
   "source": [
    "import pymongo\n",
    "import pandas as pd\n",
    "from tqdm import tqdm\n",
    "\n",
    "from notebook_modules.database import Database\n",
    "from notebook_modules.half import Half\n",
    "from notebook_modules.lists import make_list\n",
    "from notebook_modules.plots import make_distribution_plot"
   ]
  },
  {
   "cell_type": "code",
   "execution_count": null,
   "metadata": {},
   "outputs": [],
   "source": [
    "db = Database()\n",
    "assert db.client, \"No database client available!\"\n",
    "stackoverflow = db.client[\"stackoverflow\"]\n",
    "tags = stackoverflow[\"tags\"]\n",
    "posts = stackoverflow[\"posts\"]"
   ]
  },
  {
   "cell_type": "code",
   "execution_count": null,
   "metadata": {},
   "outputs": [],
   "source": [
    "halves = Half.make_halves(2019, 2020)"
   ]
  },
  {
   "cell_type": "code",
   "execution_count": null,
   "metadata": {},
   "outputs": [],
   "source": [
    "def aggregate_full(timespan):\n",
    "    cursor = posts.aggregate([\n",
    "        {\"$match\": {\n",
    "            \"PostTypeId\": 1,\n",
    "            \"CreationDate\": {\n",
    "                #\"$gte\": timespan.start,\n",
    "                \"$lt\": timespan.end\n",
    "            }\n",
    "        }},\n",
    "        {\"$unwind\": \"$Tags\"},\n",
    "        {\"$group\": {\n",
    "            \"_id\": \"$Tags\",\n",
    "            \"frequency\": {\"$sum\": 1}\n",
    "        }},\n",
    "        {\"$sort\": {\n",
    "            \"frequency\": -1\n",
    "        }}\n",
    "    ])\n",
    "    result = list(cursor)\n",
    "    if len(result) == 0:\n",
    "        return pd.DataFrame()\n",
    "    else:\n",
    "        df = pd.DataFrame(result)\n",
    "        df.rename({\"_id\": \"tag\"}, axis=\"columns\", inplace=True)\n",
    "        return df"
   ]
  },
  {
   "cell_type": "code",
   "execution_count": null,
   "metadata": {},
   "outputs": [],
   "source": [
    "def distribute(aggr):\n",
    "    dist = []\n",
    "    unique_tags = len(aggr.index)\n",
    "    total_tags = aggr.frequency.sum()\n",
    "    resolution = 100\n",
    "    for p in range(0, resolution + 1):\n",
    "        percentage = p / resolution\n",
    "        index = int(unique_tags * percentage)\n",
    "        part = aggr.head(index)\n",
    "        share = part.frequency.sum() / total_tags\n",
    "        dist.append([percentage, share, len(part.index)])\n",
    "    return pd.DataFrame(dist, columns=[\"percentage\", \"share\", \"count\"])"
   ]
  },
  {
   "cell_type": "code",
   "execution_count": null,
   "metadata": {},
   "outputs": [],
   "source": [
    "for half in tqdm(halves, unit=\"half\", ascii=True):\n",
    "    tags_from_posts = aggregate_full(half)\n",
    "    if tags_from_posts.empty:\n",
    "        dist = pd.DataFrame(columns=[\"percentage\", \"share\", \"count\"])\n",
    "    else:\n",
    "        dist = distribute(tags_from_posts)\n",
    "    make_list(\"distribution\", str(half), dist)\n",
    "    make_distribution_plot(\"distribution\", str(half), dist)"
   ]
  },
  {
   "cell_type": "code",
   "execution_count": null,
   "metadata": {},
   "outputs": [],
   "source": []
  }
 ],
 "metadata": {
  "kernelspec": {
   "display_name": "Python 3",
   "language": "python",
   "name": "python3"
  },
  "language_info": {
   "codemirror_mode": {
    "name": "ipython",
    "version": 3
   },
   "file_extension": ".py",
   "mimetype": "text/x-python",
   "name": "python",
   "nbconvert_exporter": "python",
   "pygments_lexer": "ipython3",
   "version": "3.7.7-final"
  }
 },
 "nbformat": 4,
 "nbformat_minor": 2
}