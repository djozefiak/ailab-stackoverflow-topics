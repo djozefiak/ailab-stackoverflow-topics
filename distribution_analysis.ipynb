{
 "cells": [
  {
   "cell_type": "code",
   "execution_count": null,
   "metadata": {},
   "outputs": [],
   "source": [
    "import pymongo\n",
    "import pandas as pd\n",
    "from tqdm import tqdm\n",
    "from time import sleep\n",
    "\n",
    "from notebook_modules.database import Database\n",
    "from notebook_modules.quarter import Quarter\n",
    "from notebook_modules.half import Half\n",
    "from notebook_modules.lists import make_list\n",
    "from notebook_modules.plots import make_frequency_plot, make_frequency_plot_from_csv"
   ]
  },
  {
   "cell_type": "code",
   "execution_count": null,
   "metadata": {},
   "outputs": [],
   "source": [
    "db = Database()\n",
    "assert db.client, \"No database client available!\"\n",
    "stackoverflow = db.client[\"stackoverflow\"]\n",
    "tags = stackoverflow[\"tags\"]\n",
    "posts = stackoverflow[\"posts\"]"
   ]
  },
  {
   "cell_type": "code",
   "execution_count": null,
   "metadata": {},
   "outputs": [],
   "source": [
    "quarters = Quarter.make_quarters(2019, 2020)\n",
    "halves = Half.make_halves(2019, 2020)"
   ]
  },
  {
   "cell_type": "code",
   "execution_count": null,
   "metadata": {},
   "outputs": [],
   "source": [
    "LIMIT = 20\n",
    "topTags = (tags\n",
    ".find({}, projection=[\"TagName\", \"Count\"])\n",
    ".sort(\"Count\", pymongo.DESCENDING)\n",
    ".limit(LIMIT))"
   ]
  },
  {
   "cell_type": "code",
   "execution_count": null,
   "metadata": {},
   "outputs": [],
   "source": [
    "for quarter in quarters:\n",
    "    pbar = tqdm(total=LIMIT, unit=\"query\", desc=str(quarter), ascii=True)\n",
    "    df = pd.DataFrame(columns=[\"tag\", \"frequency\"])\n",
    "    for tag in topTags:\n",
    "        result = posts.count_documents({\n",
    "            \"PostTypeId\": 1,\n",
    "            \"CreationDate\": {\n",
    "                \"$gte\": quarter.start,\n",
    "                \"$lt\": quarter.end\n",
    "            },\n",
    "            \"Tags\": tag[\"TagName\"]\n",
    "        })\n",
    "        index = len(df.index)\n",
    "        df.loc[index] = [tag[\"TagName\"], result]\n",
    "        pbar.update()\n",
    "    topTags.rewind()\n",
    "    pbar.close()\n",
    "    df = df.sort_values(\"frequency\", ascending=False)\n",
    "    make_list(\"frequency\", str(quarter), df)\n",
    "    make_frequency_plot(\"frequency\", str(quarter), df)"
   ]
  },
  {
   "cell_type": "code",
   "execution_count": null,
   "metadata": {},
   "outputs": [],
   "source": []
  }
 ],
 "metadata": {
  "kernelspec": {
   "display_name": "Python 3",
   "language": "python",
   "name": "python3"
  },
  "language_info": {
   "codemirror_mode": {
    "name": "ipython",
    "version": 3
   },
   "file_extension": ".py",
   "mimetype": "text/x-python",
   "name": "python",
   "nbconvert_exporter": "python",
   "pygments_lexer": "ipython3",
   "version": "3.7.7-final"
  }
 },
 "nbformat": 4,
 "nbformat_minor": 2
}