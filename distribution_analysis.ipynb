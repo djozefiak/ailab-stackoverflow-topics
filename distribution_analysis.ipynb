{
 "cells": [
  {
   "cell_type": "code",
   "execution_count": null,
   "metadata": {},
   "outputs": [],
   "source": [
    "import pymongo\n",
    "import pandas as pd\n",
    "from tqdm import tqdm\n",
    "\n",
    "from notebook_modules.database import Database\n",
    "from notebook_modules.half import Half\n",
    "from notebook_modules.lists import make_list\n",
    "from notebook_modules.plots import make_distribution_plot"
   ]
  },
  {
   "cell_type": "code",
   "execution_count": null,
   "metadata": {},
   "outputs": [],
   "source": [
    "db = Database()\n",
    "assert db.client, \"No database client available!\"\n",
    "stackoverflow = db.client[\"stackoverflow\"]\n",
    "tags = stackoverflow[\"tags\"]\n",
    "posts = stackoverflow[\"posts\"]"
   ]
  },
  {
   "cell_type": "code",
   "execution_count": null,
   "metadata": {},
   "outputs": [],
   "source": [
    "halves = Half.make_halves(2008, 2021)"
   ]
  },
  {
   "cell_type": "code",
   "execution_count": null,
   "metadata": {},
   "outputs": [],
   "source": [
    "def aggregate(timespan):\n",
    "    cursor = posts.aggregate([\n",
    "        {\"$match\": {\n",
    "            \"PostTypeId\": 1,\n",
    "            \"CreationDate\": {\n",
    "                \"$gte\": timespan.start,\n",
    "                \"$lt\": timespan.end\n",
    "            }\n",
    "        }},\n",
    "        {\"$unwind\": \"$Tags\"},\n",
    "        {\"$group\": {\n",
    "            \"_id\": \"$Tags\",\n",
    "            \"frequency\": {\"$sum\": 1}\n",
    "        }},\n",
    "        {\"$sort\": {\n",
    "            \"frequency\": -1\n",
    "        }}\n",
    "    ])\n",
    "    result = list(cursor)\n",
    "    if len(result) == 0:\n",
    "        return pd.DataFrame()\n",
    "    else:\n",
    "        df = pd.DataFrame(result)\n",
    "        df.rename({\"_id\": \"tag\"}, axis=\"columns\", inplace=True)\n",
    "        return df"
   ]
  },
  {
   "cell_type": "code",
   "execution_count": null,
   "metadata": {},
   "outputs": [],
   "source": [
    "def distribute(aggr):\n",
    "    dist = []\n",
    "    unique_tags = len(aggr.index)\n",
    "    total_tags = aggr.frequency.sum()\n",
    "    resolution = 100\n",
    "    for p in range(0, resolution + 1):\n",
    "        percentage = p / resolution\n",
    "        index = int(unique_tags * percentage)\n",
    "        part = aggr.head(index)\n",
    "        share = part.frequency.sum() / total_tags\n",
    "        dist.append([percentage, share, len(part.index)])\n",
    "    return pd.DataFrame(dist, columns=[\"percentage\", \"share\", \"count\"])"
   ]
  },
  {
   "cell_type": "code",
   "execution_count": null,
   "metadata": {},
   "outputs": [],
   "source": [
    "for half in tqdm(halves, unit=\"half\", ascii=True):\n",
    "    aggr = aggregate(half)\n",
    "    if aggr.empty:\n",
    "        dist = pd.DataFrame(columns=[\"percentage\", \"share\", \"count\"])\n",
    "    else:\n",
    "        dist = distribute(aggr)\n",
    "    make_list(\"distribution\", str(half), dist)\n",
    "    make_distribution_plot(\"distribution\", str(half), dist)"
   ]
  },
  {
   "cell_type": "code",
   "execution_count": null,
   "metadata": {
    "tags": [
     "outputPrepend"
    ]
   },
   "outputs": [],
   "source": [
    "tags_2020_h1 = aggregate(Half.make_half(2019, 1))\n",
    "tags_2020_h2 = aggregate(Half.make_half(2019, 2))"
   ]
  },
  {
   "cell_type": "code",
   "execution_count": null,
   "metadata": {},
   "outputs": [],
   "source": [
    "top_2020_h1 = tags_2020_h1.head(int(0.1 * len(tags_2020_h1)))\n",
    "bottom_2020_h2 = tags_2020_h2.tail(int(0.9 * len(tags_2020_h2)))"
   ]
  },
  {
   "cell_type": "code",
   "execution_count": null,
   "metadata": {},
   "outputs": [],
   "source": [
    "undecaying_left_join = pd.merge(top_2020_h1, bottom_2020_h2, how=\"left\", on=\"tag\", indicator=True)\n",
    "undecaying = undecaying_left_join[undecaying_left_join[\"_merge\"] == \"left_only\"].reset_index(drop=True)\n",
    "decaying = pd.merge(top_2020_h1, bottom_2020_h2, how=\"inner\", on=\"tag\")"
   ]
  },
  {
   "cell_type": "code",
   "execution_count": null,
   "metadata": {},
   "outputs": [],
   "source": []
  }
 ],
 "metadata": {
  "kernelspec": {
   "display_name": "Python 3",
   "language": "python",
   "name": "python3"
  },
  "language_info": {
   "codemirror_mode": {
    "name": "ipython",
    "version": 3
   },
   "file_extension": ".py",
   "mimetype": "text/x-python",
   "name": "python",
   "nbconvert_exporter": "python",
   "pygments_lexer": "ipython3",
   "version": "3.7.7-final"
  }
 },
 "nbformat": 4,
 "nbformat_minor": 2
}