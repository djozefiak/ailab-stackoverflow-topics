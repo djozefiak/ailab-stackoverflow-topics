{
 "cells": [
  {
   "cell_type": "code",
   "execution_count": null,
   "metadata": {},
   "outputs": [],
   "source": [
    "import pymongo\n",
    "import pandas as pd\n",
    "from tqdm import tqdm\n",
    "\n",
    "from notebook_modules.database import Database\n",
    "from notebook_modules.half import Half\n",
    "from notebook_modules.lists import make_list\n",
    "from notebook_modules.plots import make_distribution_plot"
   ]
  },
  {
   "cell_type": "code",
   "execution_count": null,
   "metadata": {},
   "outputs": [],
   "source": [
    "db = Database()\n",
    "assert db.client, \"No database client available!\"\n",
    "stackoverflow = db.client[\"stackoverflow\"]\n",
    "tags = stackoverflow[\"tags\"]\n",
    "posts = stackoverflow[\"posts\"]"
   ]
  },
  {
   "cell_type": "code",
   "execution_count": null,
   "metadata": {},
   "outputs": [],
   "source": [
    "halves = Half.make_halves(2008, 2021)"
   ]
  },
  {
   "cell_type": "code",
   "execution_count": null,
   "metadata": {},
   "outputs": [],
   "source": [
    "def distribution(df):\n",
    "    dist = pd.DataFrame(columns=[\"percentage\", \"share\"])\n",
    "    length = len(df.index)\n",
    "    total_tags = df.frequency.sum()\n",
    "    resolution = 100\n",
    "    for p in range(0, resolution + 1):\n",
    "        percentage = p / resolution\n",
    "        index = int(length * percentage)\n",
    "        part = df.head(index)\n",
    "        share = part.frequency.sum() / total_tags\n",
    "        dist.loc[len(dist)] = [percentage, share]\n",
    "    return dist"
   ]
  },
  {
   "cell_type": "code",
   "execution_count": null,
   "metadata": {},
   "outputs": [],
   "source": [
    "for half in tqdm(halves, unit=\"half\", ascii=True):\n",
    "    cursor = posts.aggregate([\n",
    "        {\"$match\": {\n",
    "            \"PostTypeId\": 1,\n",
    "            \"CreationDate\": {\n",
    "                \"$gte\": half.start,\n",
    "                \"$lt\": half.end\n",
    "            }\n",
    "        }},\n",
    "        {\"$unwind\": \"$Tags\"},\n",
    "        {\"$group\": {\n",
    "            \"_id\": \"$Tags\",\n",
    "            \"frequency\": {\"$sum\": 1}\n",
    "        }},\n",
    "        {\"$sort\": {\n",
    "            \"frequency\": -1\n",
    "        }}\n",
    "    ])\n",
    "    result = list(cursor)\n",
    "    if len(result) == 0:\n",
    "        dist = pd.DataFrame(columns=[\"percentage\", \"share\"])\n",
    "    else:\n",
    "        df = pd.DataFrame(result)\n",
    "        df.columns = [\"tag\", \"frequency\"]\n",
    "        dist = distribution(df)\n",
    "    make_list(\"distribution\", str(half), dist)\n",
    "    make_distribution_plot(\"distribution\", str(half), dist)"
   ]
  },
  {
   "cell_type": "code",
   "execution_count": null,
   "metadata": {},
   "outputs": [],
   "source": []
  }
 ],
 "metadata": {
  "kernelspec": {
   "display_name": "Python 3",
   "language": "python",
   "name": "python3"
  },
  "language_info": {
   "codemirror_mode": {
    "name": "ipython",
    "version": 3
   },
   "file_extension": ".py",
   "mimetype": "text/x-python",
   "name": "python",
   "nbconvert_exporter": "python",
   "pygments_lexer": "ipython3",
   "version": "3.7.7-final"
  }
 },
 "nbformat": 4,
 "nbformat_minor": 2
}