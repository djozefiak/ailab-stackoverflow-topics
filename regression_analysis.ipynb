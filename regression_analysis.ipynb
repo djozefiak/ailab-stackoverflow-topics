{
 "cells": [
  {
   "cell_type": "code",
   "execution_count": null,
   "metadata": {},
   "outputs": [],
   "source": [
    "import pymongo\n",
    "import pandas as pd\n",
    "import numpy as np\n",
    "from tqdm import tqdm\n",
    "\n",
    "from notebook_modules.database import Database\n",
    "from notebook_modules.half import Half\n",
    "from notebook_modules.distribution import aggregate\n",
    "from notebook_modules.lists import save_db, load_db"
   ]
  },
  {
   "cell_type": "code",
   "execution_count": null,
   "metadata": {
    "tags": []
   },
   "outputs": [],
   "source": [
    "load_from_fs = True\n",
    "\n",
    "if not load_from_fs:\n",
    "    db = Database()\n",
    "    assert db.client, \"No database client available!\"\n",
    "    stackoverflow = db.client[\"stackoverflow\"]\n",
    "    tags = stackoverflow[\"tags\"]\n",
    "    posts = stackoverflow[\"posts\"]"
   ]
  },
  {
   "cell_type": "code",
   "execution_count": null,
   "metadata": {
    "tags": []
   },
   "outputs": [],
   "source": [
    "current_period = Half.make_half(2019, 2)\n",
    "halves = Half.make_halves(2008, 2020)"
   ]
  },
  {
   "cell_type": "code",
   "execution_count": null,
   "metadata": {},
   "outputs": [],
   "source": [
    "if load_from_fs:\n",
    "    full_tags = load_db(topic=\"tsa\", name=\"full-tags\")\n",
    "else:\n",
    "    full_tags = aggregate(posts, current_period, full=True)\n",
    "    save_db(full_tags, topic=\"tsa\", name=\"full-tags\")\n",
    "full_tags"
   ]
  },
  {
   "cell_type": "code",
   "execution_count": null,
   "metadata": {
    "tags": []
   },
   "outputs": [],
   "source": [
    "def aggregate_time_periods(periods, unit=\"half\"):\n",
    "    time_periods = []\n",
    "\n",
    "    for period in tqdm(periods, unit=unit, ascii=True):\n",
    "        tags_from_posts = aggregate(posts, period)\n",
    "        if tags_from_posts.empty:\n",
    "            time_periods.append({\"_date\": period.end})\n",
    "        else:\n",
    "            keys = tags_from_posts.tag.values\n",
    "            values = tags_from_posts.frequency.values\n",
    "            time_periods.append({\"_date\": period.end, **dict(zip(keys, values))})\n",
    "\n",
    "    return time_periods"
   ]
  },
  {
   "cell_type": "code",
   "execution_count": null,
   "metadata": {
    "tags": []
   },
   "outputs": [],
   "source": [
    "if load_from_fs:\n",
    "    time_series = load_db(topic=\"tsa\", name=\"time-series\")\n",
    "else:\n",
    "    time_periods = aggregate_time_periods(halves, unit=\"half\")\n",
    "    time_series = pd.DataFrame(time_periods, columns=[\"_date\", *full_tags.tag.values])\n",
    "    time_series.fillna(0, inplace=True)\n",
    "    save_db(time_series, topic=\"tsa\", name=\"time-series\")"
   ]
  },
  {
   "cell_type": "code",
   "execution_count": null,
   "metadata": {},
   "outputs": [],
   "source": [
    "time_series._date = pd.to_datetime(time_series._date)\n",
    "time_series.set_index(\"_date\", inplace=True)\n",
    "time_series.index = pd.DatetimeIndex(time_series.index.values, freq=time_series.index.inferred_freq)"
   ]
  },
  {
   "cell_type": "code",
   "execution_count": null,
   "metadata": {},
   "outputs": [],
   "source": [
    "# only select tags that appeared over a certain threshold\n",
    "time_series = time_series.loc[:, time_series.sum(axis=\"rows\") >= 280.0]\n",
    "train, test = time_series.iloc[:23, :], time_series.iloc[23:, :]\n",
    "time_series"
   ]
  },
  {
   "cell_type": "code",
   "execution_count": null,
   "metadata": {
    "tags": []
   },
   "outputs": [],
   "source": [
    "class_threshold = 0.05\n",
    "classify = lambda d: \"decaying\" if d >= class_threshold else \"undecaying\"\n",
    "classes = []\n",
    "\n",
    "for tag in time_series:\n",
    "    old_value = time_series[tag][-2]\n",
    "    new_value = time_series[tag][-1]\n",
    "    decrease = (old_value - new_value) /  old_value\n",
    "    given_class = classify(decrease)\n",
    "    classes.append({\"tag\": tag, \"decrease\": decrease, \"class\": given_class})\n",
    "\n",
    "time_series_classes = pd.DataFrame(classes)\n",
    "time_series_classes"
   ]
  },
  {
   "cell_type": "code",
   "execution_count": null,
   "metadata": {},
   "outputs": [],
   "source": [
    "import seaborn as sns\n",
    "import matplotlib.pyplot as plt\n",
    "from statsmodels.tsa.arima.model import ARIMA\n",
    "# https://www.statsmodels.org/stable/generated/statsmodels.tsa.arima_model.ARIMA.html"
   ]
  },
  {
   "cell_type": "code",
   "execution_count": null,
   "metadata": {
    "tags": []
   },
   "outputs": [],
   "source": [
    "full_current = time_series[time_series.columns[0]]\n",
    "train_current = train[train.columns[0]]\n",
    "test_current = test[test.columns[0]]\n",
    "\n",
    "# fit model\n",
    "# order=(p, d, q) sets the order of the model with\n",
    "# autoregressive, differences, and moving average components\n",
    "model = ARIMA(train_current, order=(1, 0, 2)) \n",
    "model_fit = model.fit()\n",
    "\n",
    "# make prediction\n",
    "prediction_current = model_fit.predict(0, len(train_current) + 1)\n",
    "prediction_current = prediction_current.shift(-1)\n",
    "prediction_current.dropna(inplace=True)\n",
    "prediction_current.name = train_current.name + \"-predicted\""
   ]
  },
  {
   "cell_type": "code",
   "execution_count": null,
   "metadata": {},
   "outputs": [],
   "source": [
    "compare_current = pd.concat([full_current, prediction_current], axis=\"columns\")\n",
    "\n",
    "sns.set(style=\"whitegrid\")\n",
    "plt.figure(figsize=(16,8))\n",
    "ax = sns.lineplot(data=compare_current)\n",
    "ax.get_figure().savefig(\"output/plots/arima-prediction.png\")\n",
    "compare_current"
   ]
  },
  {
   "cell_type": "code",
   "execution_count": null,
   "metadata": {
    "tags": []
   },
   "outputs": [],
   "source": [
    "old_actual, new_actual = compare_current.iloc[-2:, 0]\n",
    "old_predicted, new_predicted = compare_current.iloc[-2:, 1]\n",
    "\n",
    "decrease_actual = (old_actual - new_actual) / old_actual\n",
    "decrease_predicted = (old_predicted - new_predicted) / old_predicted\n",
    "\n",
    "print(\"actual decrease:\", decrease_actual, \", actual class:\", classify(decrease_actual))\n",
    "print(\"predicted decrease:\", decrease_predicted, \", predicted class:\", classify(decrease_predicted))"
   ]
  },
  {
   "cell_type": "code",
   "execution_count": null,
   "metadata": {},
   "outputs": [],
   "source": []
  }
 ],
 "metadata": {
  "kernelspec": {
   "display_name": "Python 3",
   "language": "python",
   "name": "python3"
  },
  "language_info": {
   "codemirror_mode": {
    "name": "ipython",
    "version": 3
   },
   "file_extension": ".py",
   "mimetype": "text/x-python",
   "name": "python",
   "nbconvert_exporter": "python",
   "pygments_lexer": "ipython3",
   "version": "3.7.7-final"
  }
 },
 "nbformat": 4,
 "nbformat_minor": 4
}