{
 "cells": [
  {
   "cell_type": "code",
   "execution_count": null,
   "metadata": {},
   "outputs": [],
   "source": [
    "import pymongo\n",
    "import pandas as pd\n",
    "from tqdm import tqdm\n",
    "\n",
    "from notebook_modules.database import Database\n",
    "from notebook_modules.half import Half\n",
    "from notebook_modules.classification import aggregate_features, split_top, split_class, classify\n",
    "from notebook_modules.lists import make_list\n",
    "from notebook_modules.plots import make_distribution_plot"
   ]
  },
  {
   "cell_type": "code",
   "execution_count": null,
   "metadata": {
    "tags": []
   },
   "outputs": [],
   "source": [
    "db = Database()\n",
    "assert db.client, \"No database client available!\"\n",
    "stackoverflow = db.client[\"stackoverflow\"]\n",
    "tags = stackoverflow[\"tags\"]\n",
    "posts = stackoverflow[\"posts\"]"
   ]
  },
  {
   "cell_type": "code",
   "execution_count": null,
   "metadata": {},
   "outputs": [],
   "source": [
    "tags_h1 = aggregate_features(posts, Half.make_half(2018, 2))\n",
    "tags_h2 = aggregate_features(posts, Half.make_half(2019, 1))"
   ]
  },
  {
   "cell_type": "code",
   "execution_count": null,
   "metadata": {},
   "outputs": [],
   "source": [
    "tags_h1_eval = aggregate_features(posts, Half.make_half(2019, 1))\n",
    "tags_h2_eval = aggregate_features(posts, Half.make_half(2019, 2))"
   ]
  },
  {
   "cell_type": "code",
   "execution_count": null,
   "metadata": {},
   "outputs": [],
   "source": [
    "top_h1 = split_top(tags_h1, threshold=0.2)\n",
    "top_h2 = split_top(tags_h2, threshold=0.2)\n",
    "dataset = classify(top_current=top_h1, top_next=top_h2)\n",
    "dataset"
   ]
  },
  {
   "cell_type": "code",
   "execution_count": null,
   "metadata": {
    "tags": []
   },
   "outputs": [],
   "source": [
    "from sklearn.metrics import accuracy_score, f1_score, precision_score, recall_score"
   ]
  },
  {
   "cell_type": "code",
   "execution_count": null,
   "metadata": {
    "tags": []
   },
   "outputs": [],
   "source": [
    "x, y = split_class(dataset)\n",
    "\n",
    "def rule_model(df, threshold=25):\n",
    "    classes = df[\"frequency\"].map(lambda f: 1 if f <= threshold else 0)\n",
    "    return classes.values\n",
    "\n",
    "y_pred = rule_model(x, threshold=25)\n",
    "\n",
    "print(\"accuracy\", accuracy_score(y, y_pred))\n",
    "print(\"f1-score\", f1_score(y, y_pred))\n",
    "print(\"precision\", precision_score(y, y_pred))\n",
    "print(\"recall\", recall_score(y, y_pred))"
   ]
  },
  {
   "cell_type": "code",
   "execution_count": null,
   "metadata": {},
   "outputs": [],
   "source": [
    "top_h1_eval = split_top(tags_h1_eval, threshold=0.2)\n",
    "top_h2_eval = split_top(tags_h2_eval, threshold=0.2)\n",
    "dataset_eval = classify(top_current=top_h1_eval, top_next=top_h2_eval)\n",
    "dataset_eval"
   ]
  },
  {
   "cell_type": "code",
   "execution_count": null,
   "metadata": {
    "tags": []
   },
   "outputs": [],
   "source": [
    "x_eval, y_eval = split_class(dataset_eval)\n",
    "\n",
    "y_eval_pred = rule_model(x_eval, threshold=30)\n",
    "\n",
    "print(\"accuracy\", accuracy_score(y_eval, y_eval_pred))\n",
    "print(\"f1-score\", f1_score(y_eval, y_eval_pred))\n",
    "print(\"precision\", precision_score(y_eval, y_eval_pred))\n",
    "print(\"recall\", recall_score(y_eval, y_eval_pred))"
   ]
  },
  {
   "cell_type": "code",
   "execution_count": null,
   "metadata": {},
   "outputs": [],
   "source": []
  }
 ],
 "metadata": {
  "kernelspec": {
   "display_name": "Python 3",
   "language": "python",
   "name": "python3"
  },
  "language_info": {
   "codemirror_mode": {
    "name": "ipython",
    "version": 3
   },
   "file_extension": ".py",
   "mimetype": "text/x-python",
   "name": "python",
   "nbconvert_exporter": "python",
   "pygments_lexer": "ipython3",
   "version": "3.7.7-final"
  }
 },
 "nbformat": 4,
 "nbformat_minor": 4
}