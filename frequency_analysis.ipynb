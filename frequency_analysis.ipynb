{
 "cells": [
  {
   "cell_type": "code",
   "execution_count": null,
   "metadata": {},
   "outputs": [],
   "source": [
    "import pymongo\n",
    "import pandas as pd\n",
    "from tqdm import tqdm\n",
    "\n",
    "from notebook_modules.database import Database\n",
    "from notebook_modules.quarter import Quarter\n",
    "from notebook_modules.lists import make_list\n",
    "from notebook_modules.plots import make_frequency_plot"
   ]
  },
  {
   "cell_type": "code",
   "execution_count": null,
   "metadata": {},
   "outputs": [],
   "source": [
    "db = Database()\n",
    "assert db.client, \"No database client available!\"\n",
    "stackoverflow = db.client[\"stackoverflow\"]\n",
    "tags = stackoverflow[\"tags\"]\n",
    "posts = stackoverflow[\"posts\"]"
   ]
  },
  {
   "cell_type": "code",
   "execution_count": null,
   "metadata": {},
   "outputs": [],
   "source": [
    "quarters = Quarter.make_quarters(2019, 2020)"
   ]
  },
  {
   "cell_type": "code",
   "execution_count": null,
   "metadata": {},
   "outputs": [],
   "source": [
    "for quarter in tqdm(quarters, unit=\"quarter\", ascii=True):\n",
    "    df = pd.DataFrame(columns=[\"tag\", \"frequency\"])\n",
    "    cursor = posts.aggregate([\n",
    "        {\"$match\": {\n",
    "            \"PostTypeId\": 1,\n",
    "            \"CreationDate\": {\n",
    "                \"$gte\": quarter.start,\n",
    "                \"$lt\": quarter.end\n",
    "            }\n",
    "        }},\n",
    "        {\"$unwind\": \"$Tags\"},\n",
    "        {\"$group\": {\n",
    "            \"_id\": \"$Tags\",\n",
    "            \"frequency\": {\"$sum\": 1}\n",
    "        }},\n",
    "        {\"$sort\": {\n",
    "            \"frequency\": -1\n",
    "        }},\n",
    "        {\"$limit\": 50}\n",
    "    ])\n",
    "    result = list(cursor)\n",
    "    if len(result) == 0:\n",
    "        df = pd.DataFrame(columns=[\"tag\", \"frequency\"])\n",
    "    else:\n",
    "        df = pd.DataFrame(result)\n",
    "        df.columns = [\"tag\", \"frequency\"]\n",
    "    make_list(\"frequency\", str(quarter), df)\n",
    "    make_frequency_plot(\"frequency\", str(quarter), df)"
   ]
  },
  {
   "cell_type": "code",
   "execution_count": null,
   "metadata": {},
   "outputs": [],
   "source": []
  }
 ],
 "metadata": {
  "kernelspec": {
   "display_name": "Python 3",
   "language": "python",
   "name": "python3"
  },
  "language_info": {
   "codemirror_mode": {
    "name": "ipython",
    "version": 3
   },
   "file_extension": ".py",
   "mimetype": "text/x-python",
   "name": "python",
   "nbconvert_exporter": "python",
   "pygments_lexer": "ipython3",
   "version": "3.7.7-final"
  }
 },
 "nbformat": 4,
 "nbformat_minor": 2
}