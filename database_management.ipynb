{
 "cells": [
  {
   "cell_type": "code",
   "execution_count": 1,
   "metadata": {},
   "outputs": [],
   "source": [
    "import pymongo\n",
    "import pandas as pd\n",
    "from tqdm import tqdm\n",
    "\n",
    "from notebook_modules.half import Half"
   ]
  },
  {
   "cell_type": "code",
   "execution_count": null,
   "metadata": {},
   "outputs": [],
   "source": [
    "db = Database()\n",
    "assert db.client, \"No database client available!\"\n",
    "stackoverflow = db.client[\"stackoverflow\"]\n",
    "tags = stackoverflow[\"tags\"]\n",
    "posts = stackoverflow[\"posts\"]"
   ]
  },
  {
   "cell_type": "code",
   "execution_count": null,
   "metadata": {},
   "outputs": [],
   "source": [
    "tags.drop_indexes()\n",
    "posts.drop_indexes()"
   ]
  },
  {
   "cell_type": "code",
   "execution_count": null,
   "metadata": {},
   "outputs": [],
   "source": [
    "tags.create_index(\"Count\", name=\"count\", sparse=True)\n",
    "tags.create_index(\"TagName\", name=\"name\", sparse=True)\n",
    "posts.create_index([\n",
    "    (\"CreationDate\", pymongo.ASCENDING),\n",
    "    (\"Tags\", pymongo.ASCENDING)],\n",
    "    name=\"dateAndTags\", sparse=True)\n",
    "posts.create_index([\n",
    "    (\"PostTypeId\", pymongo.ASCENDING),\n",
    "    (\"CreationDate\", pymongo.ASCENDING),\n",
    "    (\"Tags\", pymongo.ASCENDING)\n",
    "    ], name=\"typeAndDateAndTags\", sparse=True)"
   ]
  },
  {
   "cell_type": "code",
   "execution_count": null,
   "metadata": {},
   "outputs": [],
   "source": []
  }
 ],
 "metadata": {
  "kernelspec": {
   "display_name": "Python 3.7.6 64-bit ('AILab_StackOverflow': pipenv)",
   "language": "python",
   "name": "python37664bitailabstackoverflowpipenv9b4cf6b7295c4456a9392d654f378e0b"
  },
  "language_info": {
   "codemirror_mode": {
    "name": "ipython",
    "version": 3
   },
   "file_extension": ".py",
   "mimetype": "text/x-python",
   "name": "python",
   "nbconvert_exporter": "python",
   "pygments_lexer": "ipython3",
   "version": "3.7.6-final"
  }
 },
 "nbformat": 4,
 "nbformat_minor": 2
}