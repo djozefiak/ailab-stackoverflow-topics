{
 "cells": [
  {
   "cell_type": "code",
   "execution_count": null,
   "metadata": {},
   "outputs": [],
   "source": [
    "import pymongo\n",
    "import pandas as pd\n",
    "import numpy as np\n",
    "from tqdm import tqdm\n",
    "\n",
    "from notebook_modules.database import Database\n",
    "from notebook_modules.half import Half\n",
    "from notebook_modules.distribution import aggregate\n",
    "from notebook_modules.lists import save_db, load_db"
   ]
  },
  {
   "cell_type": "code",
   "execution_count": null,
   "metadata": {
    "tags": []
   },
   "outputs": [],
   "source": [
    "load_from_fs = True\n",
    "\n",
    "if not load_from_fs:\n",
    "    db = Database()\n",
    "    assert db.client, \"No database client available!\"\n",
    "    stackoverflow = db.client[\"stackoverflow\"]\n",
    "    tags = stackoverflow[\"tags\"]\n",
    "    posts = stackoverflow[\"posts\"]"
   ]
  },
  {
   "cell_type": "code",
   "execution_count": null,
   "metadata": {
    "tags": []
   },
   "outputs": [],
   "source": [
    "current_period = Half.make_half(2019, 2)\n",
    "halves = Half.make_halves(2008, 2020)"
   ]
  },
  {
   "cell_type": "code",
   "execution_count": null,
   "metadata": {},
   "outputs": [],
   "source": [
    "if load_from_fs:\n",
    "    full_tags = load_db(topic=\"tsa\", name=\"full-tags\")\n",
    "else:\n",
    "    full_tags = aggregate(posts, current_period, full=True)\n",
    "    save_db(full_tags, topic=\"tsa\", name=\"full-tags\")\n",
    "full_tags"
   ]
  },
  {
   "cell_type": "code",
   "execution_count": null,
   "metadata": {
    "tags": []
   },
   "outputs": [],
   "source": [
    "def aggregate_time_periods(periods, unit=\"half\"):\n",
    "    time_periods = []\n",
    "\n",
    "    for period in tqdm(periods, unit=unit, ascii=True):\n",
    "        tags_from_posts = aggregate(posts, period)\n",
    "        if tags_from_posts.empty:\n",
    "            time_periods.append({\"_date\": period.end})\n",
    "        else:\n",
    "            keys = tags_from_posts.tag.values\n",
    "            values = tags_from_posts.frequency.values\n",
    "            time_periods.append({\"_date\": period.end, **dict(zip(keys, values))})\n",
    "\n",
    "    return time_periods"
   ]
  },
  {
   "cell_type": "code",
   "execution_count": null,
   "metadata": {
    "tags": []
   },
   "outputs": [],
   "source": [
    "if load_from_fs:\n",
    "    time_series = load_db(topic=\"tsa\", name=\"time-series\")\n",
    "else:\n",
    "    time_periods = aggregate_time_periods(halves, unit=\"half\")\n",
    "    time_series = pd.DataFrame(time_periods, columns=[\"_date\", *full_tags.tag.values])\n",
    "    time_series.fillna(0, inplace=True)\n",
    "    save_db(time_series, topic=\"tsa\", name=\"time-series\")"
   ]
  },
  {
   "cell_type": "code",
   "execution_count": null,
   "metadata": {},
   "outputs": [],
   "source": [
    "time_series._date = pd.to_datetime(time_series._date)\n",
    "time_series.set_index(\"_date\", inplace=True)\n",
    "time_series.index = pd.DatetimeIndex(time_series.index.values, freq=time_series.index.inferred_freq)"
   ]
  },
  {
   "cell_type": "code",
   "execution_count": null,
   "metadata": {},
   "outputs": [],
   "source": [
    "time_series_data = time_series.T\n",
    "time_series_data.index.name = \"tag\"\n",
    "time_series_data_full = time_series_data\n",
    "\n",
    "# the top 18 % (n=10205) of all tags cover 95,61 % of all used tags in questions\n",
    "time_series_data = time_series_data.head(int(len(time_series_data) * 0.18))\n",
    "\n",
    "# remove all tags that don't occur in the second last time period\n",
    "time_series_data_full = time_series_data_full[time_series_data_full[time_series_data_full.columns[-2]] > 0]\n",
    "time_series_data = time_series_data[time_series_data[time_series_data.columns[-2]] > 0]\n",
    "time_series_data"
   ]
  },
  {
   "cell_type": "code",
   "execution_count": null,
   "metadata": {
    "tags": []
   },
   "outputs": [],
   "source": [
    "from keras.models import Sequential\n",
    "from keras.layers import Input, Dense, LSTM\n",
    "from sklearn.preprocessing import MinMaxScaler\n",
    "from sklearn.model_selection import train_test_split"
   ]
  },
  {
   "cell_type": "code",
   "execution_count": null,
   "metadata": {},
   "outputs": [],
   "source": [
    "scaler = MinMaxScaler(feature_range=(0, 1))\n",
    "time_series_data[time_series_data.columns] = scaler.fit_transform(time_series_data[time_series_data.columns]) "
   ]
  },
  {
   "cell_type": "code",
   "execution_count": null,
   "metadata": {},
   "outputs": [],
   "source": [
    "time_series_data_current = time_series_data.values[:, :-1]\n",
    "time_series_data_future = time_series_data.values[:, -1]"
   ]
  },
  {
   "cell_type": "code",
   "execution_count": null,
   "metadata": {},
   "outputs": [],
   "source": [
    "x_train, x_test, y_train, y_test = train_test_split(time_series_data_current, time_series_data_future, test_size=0.1)"
   ]
  },
  {
   "cell_type": "code",
   "execution_count": null,
   "metadata": {},
   "outputs": [],
   "source": [
    "x_train_lstm = np.expand_dims(x_train, axis=2)\n",
    "x_test_lstm = np.expand_dims(x_test, axis=2)\n",
    "\n",
    "y_train_lstm = y_train\n",
    "y_test_lstm = y_test"
   ]
  },
  {
   "cell_type": "code",
   "execution_count": null,
   "metadata": {
    "tags": []
   },
   "outputs": [],
   "source": [
    "model = Sequential()\n",
    "model.add(LSTM(200))\n",
    "model.add(Dense(1, activation=None))\n",
    "\n",
    "model.compile(optimizer=\"adam\", loss=\"mse\", metrics=[\"mse\", \"mae\", \"mape\", \"cosine\"])\n",
    "\n",
    "model.fit(x_train_lstm, y_train_lstm, epochs=5, batch_size=32, validation_data=(x_test_lstm, y_test_lstm))"
   ]
  },
  {
   "cell_type": "code",
   "execution_count": null,
   "metadata": {
    "tags": []
   },
   "outputs": [],
   "source": [
    "metrics = model.evaluate(x_test_lstm, y_test_lstm)\n",
    "dict(zip(model.metrics_names, metrics))"
   ]
  },
  {
   "cell_type": "code",
   "execution_count": null,
   "metadata": {},
   "outputs": [],
   "source": [
    "predicted_future = model.predict(np.expand_dims(time_series_data_current, axis=2))\n",
    "scaler.inverse_transform(predicted_future)"
   ]
  },
  {
   "cell_type": "code",
   "execution_count": null,
   "metadata": {},
   "outputs": [],
   "source": []
  }
 ],
 "metadata": {
  "kernelspec": {
   "display_name": "Python 3",
   "language": "python",
   "name": "python3"
  },
  "language_info": {
   "codemirror_mode": {
    "name": "ipython",
    "version": 3
   },
   "file_extension": ".py",
   "mimetype": "text/x-python",
   "name": "python",
   "nbconvert_exporter": "python",
   "pygments_lexer": "ipython3",
   "version": "3.7.7-final"
  }
 },
 "nbformat": 4,
 "nbformat_minor": 4
}